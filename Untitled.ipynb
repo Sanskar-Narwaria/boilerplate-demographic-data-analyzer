{
 "cells": [
  {
   "cell_type": "code",
   "execution_count": 2,
   "id": "6300c036-342c-4929-a5c5-7c956855f8f2",
   "metadata": {},
   "outputs": [],
   "source": [
    "import pandas as pd\n",
    "df=pd.read_csv(\"adult.data.csv\")"
   ]
  },
  {
   "cell_type": "code",
   "execution_count": 3,
   "id": "0b175c6b-e63c-45e1-a6e0-94b84c5f1019",
   "metadata": {},
   "outputs": [
    {
     "data": {
      "text/html": [
       "<div>\n",
       "<style scoped>\n",
       "    .dataframe tbody tr th:only-of-type {\n",
       "        vertical-align: middle;\n",
       "    }\n",
       "\n",
       "    .dataframe tbody tr th {\n",
       "        vertical-align: top;\n",
       "    }\n",
       "\n",
       "    .dataframe thead th {\n",
       "        text-align: right;\n",
       "    }\n",
       "</style>\n",
       "<table border=\"1\" class=\"dataframe\">\n",
       "  <thead>\n",
       "    <tr style=\"text-align: right;\">\n",
       "      <th></th>\n",
       "      <th>age</th>\n",
       "      <th>workclass</th>\n",
       "      <th>fnlwgt</th>\n",
       "      <th>education</th>\n",
       "      <th>education-num</th>\n",
       "      <th>marital-status</th>\n",
       "      <th>occupation</th>\n",
       "      <th>relationship</th>\n",
       "      <th>race</th>\n",
       "      <th>sex</th>\n",
       "      <th>capital-gain</th>\n",
       "      <th>capital-loss</th>\n",
       "      <th>hours-per-week</th>\n",
       "      <th>native-country</th>\n",
       "      <th>salary</th>\n",
       "    </tr>\n",
       "  </thead>\n",
       "  <tbody>\n",
       "    <tr>\n",
       "      <th>0</th>\n",
       "      <td>39</td>\n",
       "      <td>State-gov</td>\n",
       "      <td>77516</td>\n",
       "      <td>Bachelors</td>\n",
       "      <td>13</td>\n",
       "      <td>Never-married</td>\n",
       "      <td>Adm-clerical</td>\n",
       "      <td>Not-in-family</td>\n",
       "      <td>White</td>\n",
       "      <td>Male</td>\n",
       "      <td>2174</td>\n",
       "      <td>0</td>\n",
       "      <td>40</td>\n",
       "      <td>United-States</td>\n",
       "      <td>&lt;=50K</td>\n",
       "    </tr>\n",
       "    <tr>\n",
       "      <th>1</th>\n",
       "      <td>50</td>\n",
       "      <td>Self-emp-not-inc</td>\n",
       "      <td>83311</td>\n",
       "      <td>Bachelors</td>\n",
       "      <td>13</td>\n",
       "      <td>Married-civ-spouse</td>\n",
       "      <td>Exec-managerial</td>\n",
       "      <td>Husband</td>\n",
       "      <td>White</td>\n",
       "      <td>Male</td>\n",
       "      <td>0</td>\n",
       "      <td>0</td>\n",
       "      <td>13</td>\n",
       "      <td>United-States</td>\n",
       "      <td>&lt;=50K</td>\n",
       "    </tr>\n",
       "    <tr>\n",
       "      <th>2</th>\n",
       "      <td>38</td>\n",
       "      <td>Private</td>\n",
       "      <td>215646</td>\n",
       "      <td>HS-grad</td>\n",
       "      <td>9</td>\n",
       "      <td>Divorced</td>\n",
       "      <td>Handlers-cleaners</td>\n",
       "      <td>Not-in-family</td>\n",
       "      <td>White</td>\n",
       "      <td>Male</td>\n",
       "      <td>0</td>\n",
       "      <td>0</td>\n",
       "      <td>40</td>\n",
       "      <td>United-States</td>\n",
       "      <td>&lt;=50K</td>\n",
       "    </tr>\n",
       "    <tr>\n",
       "      <th>3</th>\n",
       "      <td>53</td>\n",
       "      <td>Private</td>\n",
       "      <td>234721</td>\n",
       "      <td>11th</td>\n",
       "      <td>7</td>\n",
       "      <td>Married-civ-spouse</td>\n",
       "      <td>Handlers-cleaners</td>\n",
       "      <td>Husband</td>\n",
       "      <td>Black</td>\n",
       "      <td>Male</td>\n",
       "      <td>0</td>\n",
       "      <td>0</td>\n",
       "      <td>40</td>\n",
       "      <td>United-States</td>\n",
       "      <td>&lt;=50K</td>\n",
       "    </tr>\n",
       "    <tr>\n",
       "      <th>4</th>\n",
       "      <td>28</td>\n",
       "      <td>Private</td>\n",
       "      <td>338409</td>\n",
       "      <td>Bachelors</td>\n",
       "      <td>13</td>\n",
       "      <td>Married-civ-spouse</td>\n",
       "      <td>Prof-specialty</td>\n",
       "      <td>Wife</td>\n",
       "      <td>Black</td>\n",
       "      <td>Female</td>\n",
       "      <td>0</td>\n",
       "      <td>0</td>\n",
       "      <td>40</td>\n",
       "      <td>Cuba</td>\n",
       "      <td>&lt;=50K</td>\n",
       "    </tr>\n",
       "    <tr>\n",
       "      <th>...</th>\n",
       "      <td>...</td>\n",
       "      <td>...</td>\n",
       "      <td>...</td>\n",
       "      <td>...</td>\n",
       "      <td>...</td>\n",
       "      <td>...</td>\n",
       "      <td>...</td>\n",
       "      <td>...</td>\n",
       "      <td>...</td>\n",
       "      <td>...</td>\n",
       "      <td>...</td>\n",
       "      <td>...</td>\n",
       "      <td>...</td>\n",
       "      <td>...</td>\n",
       "      <td>...</td>\n",
       "    </tr>\n",
       "    <tr>\n",
       "      <th>32556</th>\n",
       "      <td>27</td>\n",
       "      <td>Private</td>\n",
       "      <td>257302</td>\n",
       "      <td>Assoc-acdm</td>\n",
       "      <td>12</td>\n",
       "      <td>Married-civ-spouse</td>\n",
       "      <td>Tech-support</td>\n",
       "      <td>Wife</td>\n",
       "      <td>White</td>\n",
       "      <td>Female</td>\n",
       "      <td>0</td>\n",
       "      <td>0</td>\n",
       "      <td>38</td>\n",
       "      <td>United-States</td>\n",
       "      <td>&lt;=50K</td>\n",
       "    </tr>\n",
       "    <tr>\n",
       "      <th>32557</th>\n",
       "      <td>40</td>\n",
       "      <td>Private</td>\n",
       "      <td>154374</td>\n",
       "      <td>HS-grad</td>\n",
       "      <td>9</td>\n",
       "      <td>Married-civ-spouse</td>\n",
       "      <td>Machine-op-inspct</td>\n",
       "      <td>Husband</td>\n",
       "      <td>White</td>\n",
       "      <td>Male</td>\n",
       "      <td>0</td>\n",
       "      <td>0</td>\n",
       "      <td>40</td>\n",
       "      <td>United-States</td>\n",
       "      <td>&gt;50K</td>\n",
       "    </tr>\n",
       "    <tr>\n",
       "      <th>32558</th>\n",
       "      <td>58</td>\n",
       "      <td>Private</td>\n",
       "      <td>151910</td>\n",
       "      <td>HS-grad</td>\n",
       "      <td>9</td>\n",
       "      <td>Widowed</td>\n",
       "      <td>Adm-clerical</td>\n",
       "      <td>Unmarried</td>\n",
       "      <td>White</td>\n",
       "      <td>Female</td>\n",
       "      <td>0</td>\n",
       "      <td>0</td>\n",
       "      <td>40</td>\n",
       "      <td>United-States</td>\n",
       "      <td>&lt;=50K</td>\n",
       "    </tr>\n",
       "    <tr>\n",
       "      <th>32559</th>\n",
       "      <td>22</td>\n",
       "      <td>Private</td>\n",
       "      <td>201490</td>\n",
       "      <td>HS-grad</td>\n",
       "      <td>9</td>\n",
       "      <td>Never-married</td>\n",
       "      <td>Adm-clerical</td>\n",
       "      <td>Own-child</td>\n",
       "      <td>White</td>\n",
       "      <td>Male</td>\n",
       "      <td>0</td>\n",
       "      <td>0</td>\n",
       "      <td>20</td>\n",
       "      <td>United-States</td>\n",
       "      <td>&lt;=50K</td>\n",
       "    </tr>\n",
       "    <tr>\n",
       "      <th>32560</th>\n",
       "      <td>52</td>\n",
       "      <td>Self-emp-inc</td>\n",
       "      <td>287927</td>\n",
       "      <td>HS-grad</td>\n",
       "      <td>9</td>\n",
       "      <td>Married-civ-spouse</td>\n",
       "      <td>Exec-managerial</td>\n",
       "      <td>Wife</td>\n",
       "      <td>White</td>\n",
       "      <td>Female</td>\n",
       "      <td>15024</td>\n",
       "      <td>0</td>\n",
       "      <td>40</td>\n",
       "      <td>United-States</td>\n",
       "      <td>&gt;50K</td>\n",
       "    </tr>\n",
       "  </tbody>\n",
       "</table>\n",
       "<p>32561 rows × 15 columns</p>\n",
       "</div>"
      ],
      "text/plain": [
       "       age         workclass  fnlwgt   education  education-num  \\\n",
       "0       39         State-gov   77516   Bachelors             13   \n",
       "1       50  Self-emp-not-inc   83311   Bachelors             13   \n",
       "2       38           Private  215646     HS-grad              9   \n",
       "3       53           Private  234721        11th              7   \n",
       "4       28           Private  338409   Bachelors             13   \n",
       "...    ...               ...     ...         ...            ...   \n",
       "32556   27           Private  257302  Assoc-acdm             12   \n",
       "32557   40           Private  154374     HS-grad              9   \n",
       "32558   58           Private  151910     HS-grad              9   \n",
       "32559   22           Private  201490     HS-grad              9   \n",
       "32560   52      Self-emp-inc  287927     HS-grad              9   \n",
       "\n",
       "           marital-status         occupation   relationship   race     sex  \\\n",
       "0           Never-married       Adm-clerical  Not-in-family  White    Male   \n",
       "1      Married-civ-spouse    Exec-managerial        Husband  White    Male   \n",
       "2                Divorced  Handlers-cleaners  Not-in-family  White    Male   \n",
       "3      Married-civ-spouse  Handlers-cleaners        Husband  Black    Male   \n",
       "4      Married-civ-spouse     Prof-specialty           Wife  Black  Female   \n",
       "...                   ...                ...            ...    ...     ...   \n",
       "32556  Married-civ-spouse       Tech-support           Wife  White  Female   \n",
       "32557  Married-civ-spouse  Machine-op-inspct        Husband  White    Male   \n",
       "32558             Widowed       Adm-clerical      Unmarried  White  Female   \n",
       "32559       Never-married       Adm-clerical      Own-child  White    Male   \n",
       "32560  Married-civ-spouse    Exec-managerial           Wife  White  Female   \n",
       "\n",
       "       capital-gain  capital-loss  hours-per-week native-country salary  \n",
       "0              2174             0              40  United-States  <=50K  \n",
       "1                 0             0              13  United-States  <=50K  \n",
       "2                 0             0              40  United-States  <=50K  \n",
       "3                 0             0              40  United-States  <=50K  \n",
       "4                 0             0              40           Cuba  <=50K  \n",
       "...             ...           ...             ...            ...    ...  \n",
       "32556             0             0              38  United-States  <=50K  \n",
       "32557             0             0              40  United-States   >50K  \n",
       "32558             0             0              40  United-States  <=50K  \n",
       "32559             0             0              20  United-States  <=50K  \n",
       "32560         15024             0              40  United-States   >50K  \n",
       "\n",
       "[32561 rows x 15 columns]"
      ]
     },
     "execution_count": 3,
     "metadata": {},
     "output_type": "execute_result"
    }
   ],
   "source": [
    "df"
   ]
  },
  {
   "cell_type": "code",
   "execution_count": 10,
   "id": "954124b2-52fa-479c-bc77-15e08cda3133",
   "metadata": {},
   "outputs": [],
   "source": []
  },
  {
   "cell_type": "code",
   "execution_count": 17,
   "id": "7388ccc6-af80-4853-9ab6-ef5dde41ea81",
   "metadata": {},
   "outputs": [],
   "source": [
    "df1=df.copy()"
   ]
  },
  {
   "cell_type": "code",
   "execution_count": 24,
   "id": "ac55e098-c8d7-4049-9c15-cf1339f26173",
   "metadata": {},
   "outputs": [],
   "source": [
    "df2=list(df1.drop_duplicates(['race'])['race'])"
   ]
  },
  {
   "cell_type": "code",
   "execution_count": 25,
   "id": "40c58028-5349-49fb-b5a6-ad58d036f144",
   "metadata": {},
   "outputs": [
    {
     "data": {
      "text/plain": [
       "['White', 'Black', 'Asian-Pac-Islander', 'Amer-Indian-Eskimo', 'Other']"
      ]
     },
     "execution_count": 25,
     "metadata": {},
     "output_type": "execute_result"
    }
   ],
   "source": [
    "df2"
   ]
  },
  {
   "cell_type": "code",
   "execution_count": 28,
   "id": "67651c14-fd7e-448e-848d-9ad8e8786467",
   "metadata": {},
   "outputs": [],
   "source": [
    "lst=[]\n",
    "for i,j in enumerate(df2):\n",
    "    cnt=df[df.race==j]['race'].count()\n",
    "    lst.append(cnt)\n"
   ]
  },
  {
   "cell_type": "code",
   "execution_count": 29,
   "id": "eee190c9-a491-4b90-a148-856a823ffde9",
   "metadata": {},
   "outputs": [
    {
     "data": {
      "text/plain": [
       "[27816, 3124, 1039, 311, 271]"
      ]
     },
     "execution_count": 29,
     "metadata": {},
     "output_type": "execute_result"
    }
   ],
   "source": [
    "lst"
   ]
  },
  {
   "cell_type": "code",
   "execution_count": 31,
   "id": "8472cc03-4fd5-4eaa-a93c-813df141d33d",
   "metadata": {},
   "outputs": [],
   "source": [
    "race_count=pd.Series(lst,index=df2)"
   ]
  },
  {
   "cell_type": "raw",
   "id": "917e21a6-b086-4fd2-abfd-0f6ea5b1f22f",
   "metadata": {},
   "source": [
    "#Race_count"
   ]
  },
  {
   "cell_type": "code",
   "execution_count": 32,
   "id": "e69042f8-34af-424d-8cf9-beff116b80c9",
   "metadata": {},
   "outputs": [
    {
     "data": {
      "text/plain": [
       "White                 27816\n",
       "Black                  3124\n",
       "Asian-Pac-Islander     1039\n",
       "Amer-Indian-Eskimo      311\n",
       "Other                   271\n",
       "dtype: int64"
      ]
     },
     "execution_count": 32,
     "metadata": {},
     "output_type": "execute_result"
    }
   ],
   "source": [
    "race_count"
   ]
  },
  {
   "cell_type": "code",
   "execution_count": 41,
   "id": "6efd46e9-51bd-4d01-8f1c-5cb4718ac895",
   "metadata": {},
   "outputs": [],
   "source": []
  },
  {
   "cell_type": "raw",
   "id": "a864e9d9-6e97-48d0-8bca-23430faa4c13",
   "metadata": {},
   "source": [
    "Calculate Avg age of Men"
   ]
  },
  {
   "cell_type": "code",
   "execution_count": 38,
   "id": "35e7f736-56e9-4d90-950c-884a6734791b",
   "metadata": {},
   "outputs": [],
   "source": [
    "AgeOfMen=df[df.sex=='Male'].age.sum()"
   ]
  },
  {
   "cell_type": "code",
   "execution_count": 43,
   "id": "d453b444-884d-4e2f-8864-dee866b0229c",
   "metadata": {},
   "outputs": [
    {
     "data": {
      "text/plain": [
       "859257"
      ]
     },
     "execution_count": 43,
     "metadata": {},
     "output_type": "execute_result"
    }
   ],
   "source": [
    "AgeOfMen"
   ]
  },
  {
   "cell_type": "code",
   "execution_count": 47,
   "id": "fb8a3a06-f6d9-45ec-a1c6-46f7adc1a748",
   "metadata": {},
   "outputs": [],
   "source": [
    "TotalCountAge=df[df.sex=='Male'].age.count()"
   ]
  },
  {
   "cell_type": "code",
   "execution_count": 48,
   "id": "238b4f00-4bb7-4fce-b6b3-f4937dc078ec",
   "metadata": {},
   "outputs": [
    {
     "data": {
      "text/plain": [
       "21790"
      ]
     },
     "execution_count": 48,
     "metadata": {},
     "output_type": "execute_result"
    }
   ],
   "source": [
    "TotalCountAge"
   ]
  },
  {
   "cell_type": "code",
   "execution_count": 50,
   "id": "2e296362-d5be-456e-b9c9-a3ce3479e722",
   "metadata": {},
   "outputs": [
    {
     "data": {
      "text/plain": [
       "39.4"
      ]
     },
     "execution_count": 50,
     "metadata": {},
     "output_type": "execute_result"
    }
   ],
   "source": [
    "Avg_Age_of_men=round(AgeOfMen/TotalCountAge,1)\n",
    "Avg_Age_of_men"
   ]
  },
  {
   "cell_type": "markdown",
   "id": "0d7e5398-b736-4ad4-8156-560021215156",
   "metadata": {},
   "source": [
    "### Percentage of people having bachelor degree"
   ]
  },
  {
   "cell_type": "code",
   "execution_count": 54,
   "id": "595371ab-9ddf-4301-9d9d-6350700942f3",
   "metadata": {},
   "outputs": [],
   "source": [
    "No_of_people_having_Bachleor=df[df.education=='Bachelors'].education.count()"
   ]
  },
  {
   "cell_type": "code",
   "execution_count": 55,
   "id": "a9cf317b-4358-4523-a75a-d8707a717213",
   "metadata": {},
   "outputs": [
    {
     "data": {
      "text/plain": [
       "5355"
      ]
     },
     "execution_count": 55,
     "metadata": {},
     "output_type": "execute_result"
    }
   ],
   "source": [
    "No_of_people_having_Bachleor"
   ]
  },
  {
   "cell_type": "code",
   "execution_count": 61,
   "id": "5d2b0844-9305-4f9b-b0e3-e9ea972c14fc",
   "metadata": {},
   "outputs": [],
   "source": [
    "TotalCount=df['education'].count()"
   ]
  },
  {
   "cell_type": "code",
   "execution_count": 62,
   "id": "5bea65da-c3b3-41d4-bb65-c7e6340b7571",
   "metadata": {},
   "outputs": [
    {
     "data": {
      "text/plain": [
       "32561"
      ]
     },
     "execution_count": 62,
     "metadata": {},
     "output_type": "execute_result"
    }
   ],
   "source": [
    "TotalCount"
   ]
  },
  {
   "cell_type": "code",
   "execution_count": 65,
   "id": "347db301-920f-4a89-b2a0-ca4355b7b5ea",
   "metadata": {},
   "outputs": [],
   "source": [
    " percentage_bachelors =round((No_of_people_having_Bachleor/TotalCount)*100,1)"
   ]
  },
  {
   "cell_type": "code",
   "execution_count": 66,
   "id": "617757d4-efe0-4215-9e3d-842249738e21",
   "metadata": {},
   "outputs": [
    {
     "data": {
      "text/plain": [
       "16.4"
      ]
     },
     "execution_count": 66,
     "metadata": {},
     "output_type": "execute_result"
    }
   ],
   "source": [
    " percentage_bachelors"
   ]
  },
  {
   "cell_type": "markdown",
   "id": "81169913-199a-4ebc-bbc9-fa30683ea43e",
   "metadata": {},
   "source": [
    "### percentage of higher education rich"
   ]
  },
  {
   "cell_type": "code",
   "execution_count": 68,
   "id": "bb1fd686-181d-4c6d-80ed-f3f370ffdf35",
   "metadata": {},
   "outputs": [
    {
     "data": {
      "text/plain": [
       "{'10th',\n",
       " '11th',\n",
       " '12th',\n",
       " '1st-4th',\n",
       " '5th-6th',\n",
       " '7th-8th',\n",
       " '9th',\n",
       " 'Assoc-acdm',\n",
       " 'Assoc-voc',\n",
       " 'Bachelors',\n",
       " 'Doctorate',\n",
       " 'HS-grad',\n",
       " 'Masters',\n",
       " 'Preschool',\n",
       " 'Prof-school',\n",
       " 'Some-college'}"
      ]
     },
     "execution_count": 68,
     "metadata": {},
     "output_type": "execute_result"
    }
   ],
   "source": [
    "unique_education=set(df.drop_duplicates(['education'])['education'])\n",
    "unique_education\n"
   ]
  },
  {
   "cell_type": "code",
   "execution_count": 87,
   "id": "8ecf0b80-5b67-4b3b-b5e0-380b7ad1a384",
   "metadata": {},
   "outputs": [
    {
     "data": {
      "text/plain": [
       "{'Bachelors', 'Doctorate', 'Masters'}"
      ]
     },
     "execution_count": 87,
     "metadata": {},
     "output_type": "execute_result"
    }
   ],
   "source": [
    "#masterEdu=list(['Bachelors','Masters','Doctorate'])\n",
    "masterEdu=set(['Bachelors','Masters','Doctorate'])\n",
    "lowerEdu=unique_education - masterEdu\n",
    "masterEdu"
   ]
  },
  {
   "cell_type": "code",
   "execution_count": 88,
   "id": "98e1f7ec-901f-4a99-a7a2-ce41f3489353",
   "metadata": {},
   "outputs": [
    {
     "data": {
      "text/plain": [
       "{'10th',\n",
       " '11th',\n",
       " '12th',\n",
       " '1st-4th',\n",
       " '5th-6th',\n",
       " '7th-8th',\n",
       " '9th',\n",
       " 'Assoc-acdm',\n",
       " 'Assoc-voc',\n",
       " 'HS-grad',\n",
       " 'Preschool',\n",
       " 'Prof-school',\n",
       " 'Some-college'}"
      ]
     },
     "execution_count": 88,
     "metadata": {},
     "output_type": "execute_result"
    }
   ],
   "source": [
    "lowerEdu\n"
   ]
  },
  {
   "cell_type": "code",
   "execution_count": 113,
   "id": "f5b7ee70-3799-4d1f-8c26-6211264cd08f",
   "metadata": {},
   "outputs": [
    {
     "data": {
      "text/plain": [
       "7491"
      ]
     },
     "execution_count": 113,
     "metadata": {},
     "output_type": "execute_result"
    }
   ],
   "source": [
    "people_with_advance_edu=df1[df1.education.isin(masterEdu)]['education'].count()\n",
    "people_with_advance_edu"
   ]
  },
  {
   "cell_type": "code",
   "execution_count": 114,
   "id": "5f3ea778-3cfd-4a75-86e8-1321a7339a5b",
   "metadata": {},
   "outputs": [
    {
     "data": {
      "text/plain": [
       "25070"
      ]
     },
     "execution_count": 114,
     "metadata": {},
     "output_type": "execute_result"
    }
   ],
   "source": [
    "people_with_lower_edu=df1[df1.education.isin(lowerEdu)]['education'].count()\n",
    "people_with_lower_edu"
   ]
  },
  {
   "cell_type": "code",
   "execution_count": 94,
   "id": "964f88eb-b960-4709-a0ab-26553a2084b6",
   "metadata": {},
   "outputs": [],
   "source": [
    "total_people=df1['education'].count()"
   ]
  },
  {
   "cell_type": "code",
   "execution_count": 95,
   "id": "5e615b5b-5c89-4676-9153-5686cac12d30",
   "metadata": {},
   "outputs": [
    {
     "data": {
      "text/plain": [
       "32561"
      ]
     },
     "execution_count": 95,
     "metadata": {},
     "output_type": "execute_result"
    }
   ],
   "source": [
    "total_people"
   ]
  },
  {
   "cell_type": "code",
   "execution_count": 107,
   "id": "723cc218-f549-4fcf-95e9-0626b640dabb",
   "metadata": {},
   "outputs": [
    {
     "data": {
      "text/plain": [
       "3486"
      ]
     },
     "execution_count": 107,
     "metadata": {},
     "output_type": "execute_result"
    }
   ],
   "source": [
    "higher_education_rich = df1[(df1.education.isin(masterEdu)) & (df1.salary=='>50K')]['education'].count()\n",
    "higher_education_rich"
   ]
  },
  {
   "cell_type": "code",
   "execution_count": 110,
   "id": "7b30282c-45a8-48db-a3ef-e831036cee72",
   "metadata": {},
   "outputs": [
    {
     "data": {
      "text/plain": [
       "4355"
      ]
     },
     "execution_count": 110,
     "metadata": {},
     "output_type": "execute_result"
    }
   ],
   "source": [
    "lower_education_rich = df1[(df1.education.isin(lowerEdu)) & (df1.salary=='>50K') ]['education'].count()\n",
    "lower_education_rich "
   ]
  },
  {
   "cell_type": "code",
   "execution_count": 119,
   "id": "5f2dd801-86fb-406f-9ecf-dab4db7fbd04",
   "metadata": {},
   "outputs": [
    {
     "data": {
      "text/plain": [
       "46.5"
      ]
     },
     "execution_count": 119,
     "metadata": {},
     "output_type": "execute_result"
    }
   ],
   "source": [
    "per_higher_education_rich= round((higher_education_rich/people_with_advance_edu)*100,1)\n",
    "per_higher_education_rich"
   ]
  },
  {
   "cell_type": "code",
   "execution_count": 121,
   "id": "82a63bcb-4156-4a44-a92f-9aba36dce083",
   "metadata": {},
   "outputs": [
    {
     "data": {
      "text/plain": [
       "17.4"
      ]
     },
     "execution_count": 121,
     "metadata": {},
     "output_type": "execute_result"
    }
   ],
   "source": [
    "per_lower_education_rich=round((lower_education_rich / people_with_lower_edu)*100,1)\n",
    "per_lower_education_rich"
   ]
  },
  {
   "cell_type": "markdown",
   "id": "15915d93-6e43-4fd7-b1e4-db4017bc05a6",
   "metadata": {},
   "source": [
    "### What is the minimum number of hours a person works per week (hours-per-week feature)?\n"
   ]
  },
  {
   "cell_type": "code",
   "execution_count": 125,
   "id": "b012665d-a5d2-420f-8420-5e7cb9b3e8fa",
   "metadata": {},
   "outputs": [],
   "source": [
    "min_hours=df1[\"hours-per-week\"].min()"
   ]
  },
  {
   "cell_type": "code",
   "execution_count": 126,
   "id": "72443be4-a0bf-47fc-bcd0-1b62999977a4",
   "metadata": {},
   "outputs": [
    {
     "data": {
      "text/plain": [
       "1"
      ]
     },
     "execution_count": 126,
     "metadata": {},
     "output_type": "execute_result"
    }
   ],
   "source": [
    "min_hours"
   ]
  },
  {
   "cell_type": "markdown",
   "id": "f6f69a29-2a01-42e0-8f38-af0de9a02a6d",
   "metadata": {},
   "source": [
    "### What percentage of the people who work the minimum number of hours per week have a salary of >50K?"
   ]
  },
  {
   "cell_type": "code",
   "execution_count": 138,
   "id": "56b5b8d3-fbc6-47e3-8adf-5202498ff6f4",
   "metadata": {},
   "outputs": [
    {
     "data": {
      "text/plain": [
       "20"
      ]
     },
     "execution_count": 138,
     "metadata": {},
     "output_type": "execute_result"
    }
   ],
   "source": [
    "num_min_workers = df1[df1[\"hours-per-week\"]== 1]['hours-per-week'].count()\n",
    "num_min_workers"
   ]
  },
  {
   "cell_type": "code",
   "execution_count": 139,
   "id": "be2ec9c7-b4fa-4193-a6ea-540ac4758f6a",
   "metadata": {},
   "outputs": [
    {
     "data": {
      "text/plain": [
       "2"
      ]
     },
     "execution_count": 139,
     "metadata": {},
     "output_type": "execute_result"
    }
   ],
   "source": [
    "rich_count=df1[(df1[\"hours-per-week\"]== 1) & (df1['salary']=='>50K')]['hours-per-week'].count()\n",
    "rich_count"
   ]
  },
  {
   "cell_type": "code",
   "execution_count": 144,
   "id": "88c6f097-ef6a-4c59-bd7e-9c6b25b0d5b0",
   "metadata": {},
   "outputs": [
    {
     "data": {
      "text/plain": [
       "10"
      ]
     },
     "execution_count": 144,
     "metadata": {},
     "output_type": "execute_result"
    }
   ],
   "source": [
    "rich_percentage = int((rich_count/num_min_workers)*100)\n",
    "rich_percentage"
   ]
  },
  {
   "cell_type": "markdown",
   "id": "6f3f390d-ab15-499d-8845-fc7f3c94c859",
   "metadata": {},
   "source": [
    "###  What country has the highest percentage of people that earn >50K?"
   ]
  },
  {
   "cell_type": "code",
   "execution_count": 159,
   "id": "58248cb1-e589-4d7a-89bc-f41751ce9d11",
   "metadata": {},
   "outputs": [],
   "source": [
    "people_earning_more = df1[df1.salary=='>50K']\n",
    "#highest_earning_country_percentage = "
   ]
  },
  {
   "cell_type": "code",
   "execution_count": 205,
   "id": "52dd3c0c-5fe3-4bfb-b0ba-9dd9423562d4",
   "metadata": {},
   "outputs": [
    {
     "data": {
      "text/plain": [
       "native-country\n",
       "?                      146\n",
       "Cambodia                 7\n",
       "Canada                  39\n",
       "China                   20\n",
       "Columbia                 2\n",
       "Cuba                    25\n",
       "Dominican-Republic       2\n",
       "Ecuador                  4\n",
       "El-Salvador              9\n",
       "England                 30\n",
       "France                  12\n",
       "Germany                 44\n",
       "Greece                   8\n",
       "Guatemala                3\n",
       "Haiti                    4\n",
       "Honduras                 1\n",
       "Hong                     6\n",
       "Hungary                  3\n",
       "India                   40\n",
       "Iran                    18\n",
       "Ireland                  5\n",
       "Italy                   25\n",
       "Jamaica                 10\n",
       "Japan                   24\n",
       "Laos                     2\n",
       "Mexico                  33\n",
       "Nicaragua                2\n",
       "Peru                     2\n",
       "Philippines             61\n",
       "Poland                  12\n",
       "Portugal                 4\n",
       "Puerto-Rico             12\n",
       "Scotland                 3\n",
       "South                   16\n",
       "Taiwan                  20\n",
       "Thailand                 3\n",
       "Trinadad&Tobago          2\n",
       "United-States         7171\n",
       "Vietnam                  5\n",
       "Yugoslavia               6\n",
       "Name: count, dtype: int64"
      ]
     },
     "execution_count": 205,
     "metadata": {},
     "output_type": "execute_result"
    }
   ],
   "source": [
    "people_earning_more_count_country_wise=df1[df1.salary=='>50K'].groupby(['native-country'])['native-country'].value_counts()\n",
    "people_earning_more_count_country_wise"
   ]
  },
  {
   "cell_type": "code",
   "execution_count": 206,
   "id": "ba542bbe-11ba-4b67-a341-3e82687ea62f",
   "metadata": {},
   "outputs": [],
   "source": [
    "count_total_people=df1.groupby(['native-country'])['native-country'].value_counts()"
   ]
  },
  {
   "cell_type": "code",
   "execution_count": 207,
   "id": "79ebd4da-db33-4609-b925-4aa679fe417d",
   "metadata": {},
   "outputs": [
    {
     "data": {
      "text/plain": [
       "native-country\n",
       "?                               583\n",
       "Cambodia                         19\n",
       "Canada                          121\n",
       "China                            75\n",
       "Columbia                         59\n",
       "Cuba                             95\n",
       "Dominican-Republic               70\n",
       "Ecuador                          28\n",
       "El-Salvador                     106\n",
       "England                          90\n",
       "France                           29\n",
       "Germany                         137\n",
       "Greece                           29\n",
       "Guatemala                        64\n",
       "Haiti                            44\n",
       "Holand-Netherlands                1\n",
       "Honduras                         13\n",
       "Hong                             20\n",
       "Hungary                          13\n",
       "India                           100\n",
       "Iran                             43\n",
       "Ireland                          24\n",
       "Italy                            73\n",
       "Jamaica                          81\n",
       "Japan                            62\n",
       "Laos                             18\n",
       "Mexico                          643\n",
       "Nicaragua                        34\n",
       "Outlying-US(Guam-USVI-etc)       14\n",
       "Peru                             31\n",
       "Philippines                     198\n",
       "Poland                           60\n",
       "Portugal                         37\n",
       "Puerto-Rico                     114\n",
       "Scotland                         12\n",
       "South                            80\n",
       "Taiwan                           51\n",
       "Thailand                         18\n",
       "Trinadad&Tobago                  19\n",
       "United-States                 29170\n",
       "Vietnam                          67\n",
       "Yugoslavia                       16\n",
       "Name: count, dtype: int64"
      ]
     },
     "execution_count": 207,
     "metadata": {},
     "output_type": "execute_result"
    }
   ],
   "source": [
    "count_total_people"
   ]
  },
  {
   "cell_type": "code",
   "execution_count": 212,
   "id": "41539ac1-d5d4-4c25-a3f4-90b186ff2b97",
   "metadata": {
    "scrolled": true
   },
   "outputs": [
    {
     "data": {
      "text/plain": [
       "native-country\n",
       "?                             0.250429\n",
       "Cambodia                      0.368421\n",
       "Canada                        0.322314\n",
       "China                         0.266667\n",
       "Columbia                      0.033898\n",
       "Cuba                          0.263158\n",
       "Dominican-Republic            0.028571\n",
       "Ecuador                       0.142857\n",
       "El-Salvador                   0.084906\n",
       "England                       0.333333\n",
       "France                        0.413793\n",
       "Germany                       0.321168\n",
       "Greece                        0.275862\n",
       "Guatemala                     0.046875\n",
       "Haiti                         0.090909\n",
       "Holand-Netherlands                 NaN\n",
       "Honduras                      0.076923\n",
       "Hong                          0.300000\n",
       "Hungary                       0.230769\n",
       "India                         0.400000\n",
       "Iran                          0.418605\n",
       "Ireland                       0.208333\n",
       "Italy                         0.342466\n",
       "Jamaica                       0.123457\n",
       "Japan                         0.387097\n",
       "Laos                          0.111111\n",
       "Mexico                        0.051322\n",
       "Nicaragua                     0.058824\n",
       "Outlying-US(Guam-USVI-etc)         NaN\n",
       "Peru                          0.064516\n",
       "Philippines                   0.308081\n",
       "Poland                        0.200000\n",
       "Portugal                      0.108108\n",
       "Puerto-Rico                   0.105263\n",
       "Scotland                      0.250000\n",
       "South                         0.200000\n",
       "Taiwan                        0.392157\n",
       "Thailand                      0.166667\n",
       "Trinadad&Tobago               0.105263\n",
       "United-States                 0.245835\n",
       "Vietnam                       0.074627\n",
       "Yugoslavia                    0.375000\n",
       "Name: count, dtype: float64"
      ]
     },
     "execution_count": 212,
     "metadata": {},
     "output_type": "execute_result"
    }
   ],
   "source": [
    "rich_people_count_df=people_earning_more_count_country_wise/count_total_people\n",
    "rich_people_count_df"
   ]
  },
  {
   "cell_type": "code",
   "execution_count": null,
   "id": "a9315abc-63bc-439b-93c2-5388506d4180",
   "metadata": {},
   "outputs": [],
   "source": []
  },
  {
   "cell_type": "code",
   "execution_count": 236,
   "id": "6bf3cc41-6fe5-4483-90e4-2591715f04ce",
   "metadata": {},
   "outputs": [],
   "source": [
    "highest_earning_country = rich_people_count_df.idxmax()"
   ]
  },
  {
   "cell_type": "code",
   "execution_count": 237,
   "id": "dca143c6-49cb-43ec-9c4d-8861d2ef042e",
   "metadata": {},
   "outputs": [
    {
     "data": {
      "text/plain": [
       "'Iran'"
      ]
     },
     "execution_count": 237,
     "metadata": {},
     "output_type": "execute_result"
    }
   ],
   "source": [
    "highest_earning_country"
   ]
  },
  {
   "cell_type": "code",
   "execution_count": 240,
   "id": "4dad7aed-7014-4caa-9a36-30dbb3689636",
   "metadata": {},
   "outputs": [],
   "source": [
    "highest_earning_country_percentage = round(rich_people_count_df.max()*100,1)"
   ]
  },
  {
   "cell_type": "code",
   "execution_count": 241,
   "id": "33a05a7a-c761-4a3f-8515-2861012037dd",
   "metadata": {},
   "outputs": [
    {
     "data": {
      "text/plain": [
       "41.9"
      ]
     },
     "execution_count": 241,
     "metadata": {},
     "output_type": "execute_result"
    }
   ],
   "source": [
    "highest_earning_country_percentage"
   ]
  },
  {
   "cell_type": "markdown",
   "id": "8dfa682e-1b23-4a23-9172-29cb31fa74fa",
   "metadata": {},
   "source": [
    "### Identify the most popular occupation for those who earn >50K in India."
   ]
  },
  {
   "cell_type": "code",
   "execution_count": 250,
   "id": "c70aaccb-e6f8-49be-a590-8ad8c89dd442",
   "metadata": {},
   "outputs": [],
   "source": [
    "occupation_df=df1[(df['salary'] == '>50K') & (df['native-country'] == 'India')]"
   ]
  },
  {
   "cell_type": "code",
   "execution_count": 251,
   "id": "0e323d14-8a91-4f58-b9f9-8a205afb311e",
   "metadata": {},
   "outputs": [
    {
     "data": {
      "text/html": [
       "<div>\n",
       "<style scoped>\n",
       "    .dataframe tbody tr th:only-of-type {\n",
       "        vertical-align: middle;\n",
       "    }\n",
       "\n",
       "    .dataframe tbody tr th {\n",
       "        vertical-align: top;\n",
       "    }\n",
       "\n",
       "    .dataframe thead th {\n",
       "        text-align: right;\n",
       "    }\n",
       "</style>\n",
       "<table border=\"1\" class=\"dataframe\">\n",
       "  <thead>\n",
       "    <tr style=\"text-align: right;\">\n",
       "      <th></th>\n",
       "      <th>age</th>\n",
       "      <th>workclass</th>\n",
       "      <th>fnlwgt</th>\n",
       "      <th>education</th>\n",
       "      <th>education-num</th>\n",
       "      <th>marital-status</th>\n",
       "      <th>occupation</th>\n",
       "      <th>relationship</th>\n",
       "      <th>race</th>\n",
       "      <th>sex</th>\n",
       "      <th>capital-gain</th>\n",
       "      <th>capital-loss</th>\n",
       "      <th>hours-per-week</th>\n",
       "      <th>native-country</th>\n",
       "      <th>salary</th>\n",
       "    </tr>\n",
       "  </thead>\n",
       "  <tbody>\n",
       "    <tr>\n",
       "      <th>11</th>\n",
       "      <td>30</td>\n",
       "      <td>State-gov</td>\n",
       "      <td>141297</td>\n",
       "      <td>Bachelors</td>\n",
       "      <td>13</td>\n",
       "      <td>Married-civ-spouse</td>\n",
       "      <td>Prof-specialty</td>\n",
       "      <td>Husband</td>\n",
       "      <td>Asian-Pac-Islander</td>\n",
       "      <td>Male</td>\n",
       "      <td>0</td>\n",
       "      <td>0</td>\n",
       "      <td>40</td>\n",
       "      <td>India</td>\n",
       "      <td>&gt;50K</td>\n",
       "    </tr>\n",
       "    <tr>\n",
       "      <th>968</th>\n",
       "      <td>48</td>\n",
       "      <td>Private</td>\n",
       "      <td>164966</td>\n",
       "      <td>Bachelors</td>\n",
       "      <td>13</td>\n",
       "      <td>Married-civ-spouse</td>\n",
       "      <td>Exec-managerial</td>\n",
       "      <td>Husband</td>\n",
       "      <td>Asian-Pac-Islander</td>\n",
       "      <td>Male</td>\n",
       "      <td>0</td>\n",
       "      <td>0</td>\n",
       "      <td>40</td>\n",
       "      <td>India</td>\n",
       "      <td>&gt;50K</td>\n",
       "    </tr>\n",
       "    <tr>\n",
       "      <th>1327</th>\n",
       "      <td>52</td>\n",
       "      <td>Private</td>\n",
       "      <td>168381</td>\n",
       "      <td>HS-grad</td>\n",
       "      <td>9</td>\n",
       "      <td>Widowed</td>\n",
       "      <td>Other-service</td>\n",
       "      <td>Unmarried</td>\n",
       "      <td>Asian-Pac-Islander</td>\n",
       "      <td>Female</td>\n",
       "      <td>0</td>\n",
       "      <td>0</td>\n",
       "      <td>40</td>\n",
       "      <td>India</td>\n",
       "      <td>&gt;50K</td>\n",
       "    </tr>\n",
       "    <tr>\n",
       "      <th>7258</th>\n",
       "      <td>42</td>\n",
       "      <td>State-gov</td>\n",
       "      <td>102343</td>\n",
       "      <td>Prof-school</td>\n",
       "      <td>15</td>\n",
       "      <td>Married-civ-spouse</td>\n",
       "      <td>Prof-specialty</td>\n",
       "      <td>Husband</td>\n",
       "      <td>Asian-Pac-Islander</td>\n",
       "      <td>Male</td>\n",
       "      <td>0</td>\n",
       "      <td>0</td>\n",
       "      <td>72</td>\n",
       "      <td>India</td>\n",
       "      <td>&gt;50K</td>\n",
       "    </tr>\n",
       "    <tr>\n",
       "      <th>7285</th>\n",
       "      <td>54</td>\n",
       "      <td>State-gov</td>\n",
       "      <td>93449</td>\n",
       "      <td>Masters</td>\n",
       "      <td>14</td>\n",
       "      <td>Married-civ-spouse</td>\n",
       "      <td>Prof-specialty</td>\n",
       "      <td>Husband</td>\n",
       "      <td>Asian-Pac-Islander</td>\n",
       "      <td>Male</td>\n",
       "      <td>0</td>\n",
       "      <td>0</td>\n",
       "      <td>40</td>\n",
       "      <td>India</td>\n",
       "      <td>&gt;50K</td>\n",
       "    </tr>\n",
       "    <tr>\n",
       "      <th>8124</th>\n",
       "      <td>36</td>\n",
       "      <td>Private</td>\n",
       "      <td>172104</td>\n",
       "      <td>Prof-school</td>\n",
       "      <td>15</td>\n",
       "      <td>Never-married</td>\n",
       "      <td>Prof-specialty</td>\n",
       "      <td>Not-in-family</td>\n",
       "      <td>Other</td>\n",
       "      <td>Male</td>\n",
       "      <td>0</td>\n",
       "      <td>0</td>\n",
       "      <td>40</td>\n",
       "      <td>India</td>\n",
       "      <td>&gt;50K</td>\n",
       "    </tr>\n",
       "    <tr>\n",
       "      <th>9939</th>\n",
       "      <td>43</td>\n",
       "      <td>Federal-gov</td>\n",
       "      <td>325706</td>\n",
       "      <td>Prof-school</td>\n",
       "      <td>15</td>\n",
       "      <td>Married-civ-spouse</td>\n",
       "      <td>Prof-specialty</td>\n",
       "      <td>Husband</td>\n",
       "      <td>Asian-Pac-Islander</td>\n",
       "      <td>Male</td>\n",
       "      <td>0</td>\n",
       "      <td>0</td>\n",
       "      <td>50</td>\n",
       "      <td>India</td>\n",
       "      <td>&gt;50K</td>\n",
       "    </tr>\n",
       "    <tr>\n",
       "      <th>10590</th>\n",
       "      <td>35</td>\n",
       "      <td>Private</td>\n",
       "      <td>98283</td>\n",
       "      <td>Prof-school</td>\n",
       "      <td>15</td>\n",
       "      <td>Never-married</td>\n",
       "      <td>Prof-specialty</td>\n",
       "      <td>Not-in-family</td>\n",
       "      <td>Asian-Pac-Islander</td>\n",
       "      <td>Male</td>\n",
       "      <td>0</td>\n",
       "      <td>0</td>\n",
       "      <td>40</td>\n",
       "      <td>India</td>\n",
       "      <td>&gt;50K</td>\n",
       "    </tr>\n",
       "    <tr>\n",
       "      <th>10661</th>\n",
       "      <td>59</td>\n",
       "      <td>Private</td>\n",
       "      <td>122283</td>\n",
       "      <td>Prof-school</td>\n",
       "      <td>15</td>\n",
       "      <td>Married-civ-spouse</td>\n",
       "      <td>Prof-specialty</td>\n",
       "      <td>Husband</td>\n",
       "      <td>Asian-Pac-Islander</td>\n",
       "      <td>Male</td>\n",
       "      <td>99999</td>\n",
       "      <td>0</td>\n",
       "      <td>40</td>\n",
       "      <td>India</td>\n",
       "      <td>&gt;50K</td>\n",
       "    </tr>\n",
       "    <tr>\n",
       "      <th>10736</th>\n",
       "      <td>30</td>\n",
       "      <td>Private</td>\n",
       "      <td>243190</td>\n",
       "      <td>Prof-school</td>\n",
       "      <td>15</td>\n",
       "      <td>Married-civ-spouse</td>\n",
       "      <td>Prof-specialty</td>\n",
       "      <td>Husband</td>\n",
       "      <td>Asian-Pac-Islander</td>\n",
       "      <td>Male</td>\n",
       "      <td>0</td>\n",
       "      <td>0</td>\n",
       "      <td>20</td>\n",
       "      <td>India</td>\n",
       "      <td>&gt;50K</td>\n",
       "    </tr>\n",
       "    <tr>\n",
       "      <th>11260</th>\n",
       "      <td>54</td>\n",
       "      <td>Private</td>\n",
       "      <td>225599</td>\n",
       "      <td>Masters</td>\n",
       "      <td>14</td>\n",
       "      <td>Married-civ-spouse</td>\n",
       "      <td>Prof-specialty</td>\n",
       "      <td>Husband</td>\n",
       "      <td>Asian-Pac-Islander</td>\n",
       "      <td>Male</td>\n",
       "      <td>7298</td>\n",
       "      <td>0</td>\n",
       "      <td>40</td>\n",
       "      <td>India</td>\n",
       "      <td>&gt;50K</td>\n",
       "    </tr>\n",
       "    <tr>\n",
       "      <th>11384</th>\n",
       "      <td>34</td>\n",
       "      <td>Private</td>\n",
       "      <td>98283</td>\n",
       "      <td>Prof-school</td>\n",
       "      <td>15</td>\n",
       "      <td>Never-married</td>\n",
       "      <td>Tech-support</td>\n",
       "      <td>Not-in-family</td>\n",
       "      <td>Asian-Pac-Islander</td>\n",
       "      <td>Male</td>\n",
       "      <td>0</td>\n",
       "      <td>1564</td>\n",
       "      <td>40</td>\n",
       "      <td>India</td>\n",
       "      <td>&gt;50K</td>\n",
       "    </tr>\n",
       "    <tr>\n",
       "      <th>13422</th>\n",
       "      <td>53</td>\n",
       "      <td>Private</td>\n",
       "      <td>366957</td>\n",
       "      <td>Bachelors</td>\n",
       "      <td>13</td>\n",
       "      <td>Married-civ-spouse</td>\n",
       "      <td>Exec-managerial</td>\n",
       "      <td>Husband</td>\n",
       "      <td>Asian-Pac-Islander</td>\n",
       "      <td>Male</td>\n",
       "      <td>99999</td>\n",
       "      <td>0</td>\n",
       "      <td>50</td>\n",
       "      <td>India</td>\n",
       "      <td>&gt;50K</td>\n",
       "    </tr>\n",
       "    <tr>\n",
       "      <th>13551</th>\n",
       "      <td>40</td>\n",
       "      <td>Private</td>\n",
       "      <td>220977</td>\n",
       "      <td>Doctorate</td>\n",
       "      <td>16</td>\n",
       "      <td>Married-civ-spouse</td>\n",
       "      <td>Exec-managerial</td>\n",
       "      <td>Husband</td>\n",
       "      <td>Asian-Pac-Islander</td>\n",
       "      <td>Male</td>\n",
       "      <td>3103</td>\n",
       "      <td>0</td>\n",
       "      <td>40</td>\n",
       "      <td>India</td>\n",
       "      <td>&gt;50K</td>\n",
       "    </tr>\n",
       "    <tr>\n",
       "      <th>13862</th>\n",
       "      <td>45</td>\n",
       "      <td>Private</td>\n",
       "      <td>209912</td>\n",
       "      <td>Bachelors</td>\n",
       "      <td>13</td>\n",
       "      <td>Married-civ-spouse</td>\n",
       "      <td>Exec-managerial</td>\n",
       "      <td>Husband</td>\n",
       "      <td>Asian-Pac-Islander</td>\n",
       "      <td>Male</td>\n",
       "      <td>0</td>\n",
       "      <td>0</td>\n",
       "      <td>40</td>\n",
       "      <td>India</td>\n",
       "      <td>&gt;50K</td>\n",
       "    </tr>\n",
       "    <tr>\n",
       "      <th>16017</th>\n",
       "      <td>41</td>\n",
       "      <td>Private</td>\n",
       "      <td>207578</td>\n",
       "      <td>Assoc-acdm</td>\n",
       "      <td>12</td>\n",
       "      <td>Married-civ-spouse</td>\n",
       "      <td>Exec-managerial</td>\n",
       "      <td>Husband</td>\n",
       "      <td>Black</td>\n",
       "      <td>Male</td>\n",
       "      <td>0</td>\n",
       "      <td>0</td>\n",
       "      <td>50</td>\n",
       "      <td>India</td>\n",
       "      <td>&gt;50K</td>\n",
       "    </tr>\n",
       "    <tr>\n",
       "      <th>16778</th>\n",
       "      <td>43</td>\n",
       "      <td>Private</td>\n",
       "      <td>242968</td>\n",
       "      <td>Masters</td>\n",
       "      <td>14</td>\n",
       "      <td>Married-civ-spouse</td>\n",
       "      <td>Exec-managerial</td>\n",
       "      <td>Husband</td>\n",
       "      <td>Asian-Pac-Islander</td>\n",
       "      <td>Male</td>\n",
       "      <td>0</td>\n",
       "      <td>0</td>\n",
       "      <td>40</td>\n",
       "      <td>India</td>\n",
       "      <td>&gt;50K</td>\n",
       "    </tr>\n",
       "    <tr>\n",
       "      <th>16923</th>\n",
       "      <td>41</td>\n",
       "      <td>Private</td>\n",
       "      <td>143003</td>\n",
       "      <td>Assoc-voc</td>\n",
       "      <td>11</td>\n",
       "      <td>Married-civ-spouse</td>\n",
       "      <td>Other-service</td>\n",
       "      <td>Husband</td>\n",
       "      <td>Asian-Pac-Islander</td>\n",
       "      <td>Male</td>\n",
       "      <td>7298</td>\n",
       "      <td>0</td>\n",
       "      <td>60</td>\n",
       "      <td>India</td>\n",
       "      <td>&gt;50K</td>\n",
       "    </tr>\n",
       "    <tr>\n",
       "      <th>17259</th>\n",
       "      <td>57</td>\n",
       "      <td>Self-emp-inc</td>\n",
       "      <td>123053</td>\n",
       "      <td>Prof-school</td>\n",
       "      <td>15</td>\n",
       "      <td>Married-civ-spouse</td>\n",
       "      <td>Prof-specialty</td>\n",
       "      <td>Husband</td>\n",
       "      <td>Asian-Pac-Islander</td>\n",
       "      <td>Male</td>\n",
       "      <td>15024</td>\n",
       "      <td>0</td>\n",
       "      <td>50</td>\n",
       "      <td>India</td>\n",
       "      <td>&gt;50K</td>\n",
       "    </tr>\n",
       "    <tr>\n",
       "      <th>17834</th>\n",
       "      <td>29</td>\n",
       "      <td>Self-emp-not-inc</td>\n",
       "      <td>341672</td>\n",
       "      <td>HS-grad</td>\n",
       "      <td>9</td>\n",
       "      <td>Married-spouse-absent</td>\n",
       "      <td>Transport-moving</td>\n",
       "      <td>Other-relative</td>\n",
       "      <td>Asian-Pac-Islander</td>\n",
       "      <td>Male</td>\n",
       "      <td>0</td>\n",
       "      <td>1564</td>\n",
       "      <td>50</td>\n",
       "      <td>India</td>\n",
       "      <td>&gt;50K</td>\n",
       "    </tr>\n",
       "    <tr>\n",
       "      <th>20417</th>\n",
       "      <td>42</td>\n",
       "      <td>Self-emp-inc</td>\n",
       "      <td>23510</td>\n",
       "      <td>Masters</td>\n",
       "      <td>14</td>\n",
       "      <td>Divorced</td>\n",
       "      <td>Exec-managerial</td>\n",
       "      <td>Unmarried</td>\n",
       "      <td>Asian-Pac-Islander</td>\n",
       "      <td>Male</td>\n",
       "      <td>0</td>\n",
       "      <td>2201</td>\n",
       "      <td>60</td>\n",
       "      <td>India</td>\n",
       "      <td>&gt;50K</td>\n",
       "    </tr>\n",
       "    <tr>\n",
       "      <th>20465</th>\n",
       "      <td>39</td>\n",
       "      <td>Private</td>\n",
       "      <td>198654</td>\n",
       "      <td>Prof-school</td>\n",
       "      <td>15</td>\n",
       "      <td>Married-civ-spouse</td>\n",
       "      <td>Prof-specialty</td>\n",
       "      <td>Husband</td>\n",
       "      <td>Asian-Pac-Islander</td>\n",
       "      <td>Male</td>\n",
       "      <td>0</td>\n",
       "      <td>2415</td>\n",
       "      <td>67</td>\n",
       "      <td>India</td>\n",
       "      <td>&gt;50K</td>\n",
       "    </tr>\n",
       "    <tr>\n",
       "      <th>21128</th>\n",
       "      <td>30</td>\n",
       "      <td>Private</td>\n",
       "      <td>122889</td>\n",
       "      <td>Masters</td>\n",
       "      <td>14</td>\n",
       "      <td>Married-civ-spouse</td>\n",
       "      <td>Prof-specialty</td>\n",
       "      <td>Husband</td>\n",
       "      <td>Asian-Pac-Islander</td>\n",
       "      <td>Male</td>\n",
       "      <td>0</td>\n",
       "      <td>0</td>\n",
       "      <td>50</td>\n",
       "      <td>India</td>\n",
       "      <td>&gt;50K</td>\n",
       "    </tr>\n",
       "    <tr>\n",
       "      <th>23474</th>\n",
       "      <td>55</td>\n",
       "      <td>State-gov</td>\n",
       "      <td>120781</td>\n",
       "      <td>Doctorate</td>\n",
       "      <td>16</td>\n",
       "      <td>Married-civ-spouse</td>\n",
       "      <td>Prof-specialty</td>\n",
       "      <td>Husband</td>\n",
       "      <td>Asian-Pac-Islander</td>\n",
       "      <td>Male</td>\n",
       "      <td>0</td>\n",
       "      <td>0</td>\n",
       "      <td>40</td>\n",
       "      <td>India</td>\n",
       "      <td>&gt;50K</td>\n",
       "    </tr>\n",
       "    <tr>\n",
       "      <th>24154</th>\n",
       "      <td>46</td>\n",
       "      <td>Private</td>\n",
       "      <td>229737</td>\n",
       "      <td>Bachelors</td>\n",
       "      <td>13</td>\n",
       "      <td>Married-civ-spouse</td>\n",
       "      <td>Sales</td>\n",
       "      <td>Husband</td>\n",
       "      <td>White</td>\n",
       "      <td>Male</td>\n",
       "      <td>0</td>\n",
       "      <td>0</td>\n",
       "      <td>50</td>\n",
       "      <td>India</td>\n",
       "      <td>&gt;50K</td>\n",
       "    </tr>\n",
       "    <tr>\n",
       "      <th>25739</th>\n",
       "      <td>35</td>\n",
       "      <td>Self-emp-inc</td>\n",
       "      <td>79586</td>\n",
       "      <td>Masters</td>\n",
       "      <td>14</td>\n",
       "      <td>Married-civ-spouse</td>\n",
       "      <td>Prof-specialty</td>\n",
       "      <td>Husband</td>\n",
       "      <td>Asian-Pac-Islander</td>\n",
       "      <td>Male</td>\n",
       "      <td>0</td>\n",
       "      <td>0</td>\n",
       "      <td>40</td>\n",
       "      <td>India</td>\n",
       "      <td>&gt;50K</td>\n",
       "    </tr>\n",
       "    <tr>\n",
       "      <th>26305</th>\n",
       "      <td>27</td>\n",
       "      <td>Private</td>\n",
       "      <td>207352</td>\n",
       "      <td>Bachelors</td>\n",
       "      <td>13</td>\n",
       "      <td>Married-civ-spouse</td>\n",
       "      <td>Tech-support</td>\n",
       "      <td>Husband</td>\n",
       "      <td>Asian-Pac-Islander</td>\n",
       "      <td>Male</td>\n",
       "      <td>0</td>\n",
       "      <td>0</td>\n",
       "      <td>40</td>\n",
       "      <td>India</td>\n",
       "      <td>&gt;50K</td>\n",
       "    </tr>\n",
       "    <tr>\n",
       "      <th>26356</th>\n",
       "      <td>34</td>\n",
       "      <td>Private</td>\n",
       "      <td>99872</td>\n",
       "      <td>Masters</td>\n",
       "      <td>14</td>\n",
       "      <td>Married-civ-spouse</td>\n",
       "      <td>Exec-managerial</td>\n",
       "      <td>Husband</td>\n",
       "      <td>Asian-Pac-Islander</td>\n",
       "      <td>Male</td>\n",
       "      <td>3103</td>\n",
       "      <td>0</td>\n",
       "      <td>40</td>\n",
       "      <td>India</td>\n",
       "      <td>&gt;50K</td>\n",
       "    </tr>\n",
       "    <tr>\n",
       "      <th>27670</th>\n",
       "      <td>61</td>\n",
       "      <td>Private</td>\n",
       "      <td>80896</td>\n",
       "      <td>Masters</td>\n",
       "      <td>14</td>\n",
       "      <td>Married-civ-spouse</td>\n",
       "      <td>Prof-specialty</td>\n",
       "      <td>Husband</td>\n",
       "      <td>Asian-Pac-Islander</td>\n",
       "      <td>Male</td>\n",
       "      <td>0</td>\n",
       "      <td>0</td>\n",
       "      <td>45</td>\n",
       "      <td>India</td>\n",
       "      <td>&gt;50K</td>\n",
       "    </tr>\n",
       "    <tr>\n",
       "      <th>28264</th>\n",
       "      <td>51</td>\n",
       "      <td>Self-emp-not-inc</td>\n",
       "      <td>120781</td>\n",
       "      <td>Prof-school</td>\n",
       "      <td>15</td>\n",
       "      <td>Married-civ-spouse</td>\n",
       "      <td>Prof-specialty</td>\n",
       "      <td>Husband</td>\n",
       "      <td>Other</td>\n",
       "      <td>Male</td>\n",
       "      <td>99999</td>\n",
       "      <td>0</td>\n",
       "      <td>70</td>\n",
       "      <td>India</td>\n",
       "      <td>&gt;50K</td>\n",
       "    </tr>\n",
       "    <tr>\n",
       "      <th>28433</th>\n",
       "      <td>42</td>\n",
       "      <td>Private</td>\n",
       "      <td>198341</td>\n",
       "      <td>Masters</td>\n",
       "      <td>14</td>\n",
       "      <td>Married-civ-spouse</td>\n",
       "      <td>Prof-specialty</td>\n",
       "      <td>Husband</td>\n",
       "      <td>Asian-Pac-Islander</td>\n",
       "      <td>Male</td>\n",
       "      <td>0</td>\n",
       "      <td>1902</td>\n",
       "      <td>55</td>\n",
       "      <td>India</td>\n",
       "      <td>&gt;50K</td>\n",
       "    </tr>\n",
       "    <tr>\n",
       "      <th>28452</th>\n",
       "      <td>53</td>\n",
       "      <td>Private</td>\n",
       "      <td>70387</td>\n",
       "      <td>Masters</td>\n",
       "      <td>14</td>\n",
       "      <td>Married-civ-spouse</td>\n",
       "      <td>Prof-specialty</td>\n",
       "      <td>Husband</td>\n",
       "      <td>Asian-Pac-Islander</td>\n",
       "      <td>Male</td>\n",
       "      <td>4386</td>\n",
       "      <td>0</td>\n",
       "      <td>40</td>\n",
       "      <td>India</td>\n",
       "      <td>&gt;50K</td>\n",
       "    </tr>\n",
       "    <tr>\n",
       "      <th>28557</th>\n",
       "      <td>34</td>\n",
       "      <td>Private</td>\n",
       "      <td>165737</td>\n",
       "      <td>Masters</td>\n",
       "      <td>14</td>\n",
       "      <td>Married-civ-spouse</td>\n",
       "      <td>Prof-specialty</td>\n",
       "      <td>Husband</td>\n",
       "      <td>Asian-Pac-Islander</td>\n",
       "      <td>Male</td>\n",
       "      <td>0</td>\n",
       "      <td>0</td>\n",
       "      <td>43</td>\n",
       "      <td>India</td>\n",
       "      <td>&gt;50K</td>\n",
       "    </tr>\n",
       "    <tr>\n",
       "      <th>28651</th>\n",
       "      <td>45</td>\n",
       "      <td>Self-emp-not-inc</td>\n",
       "      <td>216402</td>\n",
       "      <td>Prof-school</td>\n",
       "      <td>15</td>\n",
       "      <td>Married-civ-spouse</td>\n",
       "      <td>Prof-specialty</td>\n",
       "      <td>Husband</td>\n",
       "      <td>Asian-Pac-Islander</td>\n",
       "      <td>Male</td>\n",
       "      <td>0</td>\n",
       "      <td>0</td>\n",
       "      <td>50</td>\n",
       "      <td>India</td>\n",
       "      <td>&gt;50K</td>\n",
       "    </tr>\n",
       "    <tr>\n",
       "      <th>28798</th>\n",
       "      <td>30</td>\n",
       "      <td>Self-emp-not-inc</td>\n",
       "      <td>116666</td>\n",
       "      <td>Masters</td>\n",
       "      <td>14</td>\n",
       "      <td>Divorced</td>\n",
       "      <td>Prof-specialty</td>\n",
       "      <td>Not-in-family</td>\n",
       "      <td>Asian-Pac-Islander</td>\n",
       "      <td>Male</td>\n",
       "      <td>0</td>\n",
       "      <td>0</td>\n",
       "      <td>50</td>\n",
       "      <td>India</td>\n",
       "      <td>&gt;50K</td>\n",
       "    </tr>\n",
       "    <tr>\n",
       "      <th>30111</th>\n",
       "      <td>41</td>\n",
       "      <td>Federal-gov</td>\n",
       "      <td>219155</td>\n",
       "      <td>Prof-school</td>\n",
       "      <td>15</td>\n",
       "      <td>Married-civ-spouse</td>\n",
       "      <td>Prof-specialty</td>\n",
       "      <td>Husband</td>\n",
       "      <td>White</td>\n",
       "      <td>Male</td>\n",
       "      <td>0</td>\n",
       "      <td>0</td>\n",
       "      <td>50</td>\n",
       "      <td>India</td>\n",
       "      <td>&gt;50K</td>\n",
       "    </tr>\n",
       "    <tr>\n",
       "      <th>30152</th>\n",
       "      <td>48</td>\n",
       "      <td>Private</td>\n",
       "      <td>119471</td>\n",
       "      <td>Doctorate</td>\n",
       "      <td>16</td>\n",
       "      <td>Married-civ-spouse</td>\n",
       "      <td>Prof-specialty</td>\n",
       "      <td>Husband</td>\n",
       "      <td>Asian-Pac-Islander</td>\n",
       "      <td>Male</td>\n",
       "      <td>0</td>\n",
       "      <td>0</td>\n",
       "      <td>40</td>\n",
       "      <td>India</td>\n",
       "      <td>&gt;50K</td>\n",
       "    </tr>\n",
       "    <tr>\n",
       "      <th>30833</th>\n",
       "      <td>25</td>\n",
       "      <td>Private</td>\n",
       "      <td>110978</td>\n",
       "      <td>Assoc-acdm</td>\n",
       "      <td>12</td>\n",
       "      <td>Married-civ-spouse</td>\n",
       "      <td>Adm-clerical</td>\n",
       "      <td>Wife</td>\n",
       "      <td>Asian-Pac-Islander</td>\n",
       "      <td>Female</td>\n",
       "      <td>0</td>\n",
       "      <td>0</td>\n",
       "      <td>37</td>\n",
       "      <td>India</td>\n",
       "      <td>&gt;50K</td>\n",
       "    </tr>\n",
       "    <tr>\n",
       "      <th>31327</th>\n",
       "      <td>38</td>\n",
       "      <td>State-gov</td>\n",
       "      <td>125499</td>\n",
       "      <td>Bachelors</td>\n",
       "      <td>13</td>\n",
       "      <td>Married-civ-spouse</td>\n",
       "      <td>Prof-specialty</td>\n",
       "      <td>Husband</td>\n",
       "      <td>Asian-Pac-Islander</td>\n",
       "      <td>Male</td>\n",
       "      <td>7688</td>\n",
       "      <td>0</td>\n",
       "      <td>60</td>\n",
       "      <td>India</td>\n",
       "      <td>&gt;50K</td>\n",
       "    </tr>\n",
       "    <tr>\n",
       "      <th>31357</th>\n",
       "      <td>23</td>\n",
       "      <td>Private</td>\n",
       "      <td>143003</td>\n",
       "      <td>Masters</td>\n",
       "      <td>14</td>\n",
       "      <td>Married-civ-spouse</td>\n",
       "      <td>Prof-specialty</td>\n",
       "      <td>Husband</td>\n",
       "      <td>Asian-Pac-Islander</td>\n",
       "      <td>Male</td>\n",
       "      <td>0</td>\n",
       "      <td>1887</td>\n",
       "      <td>50</td>\n",
       "      <td>India</td>\n",
       "      <td>&gt;50K</td>\n",
       "    </tr>\n",
       "  </tbody>\n",
       "</table>\n",
       "</div>"
      ],
      "text/plain": [
       "       age         workclass  fnlwgt    education  education-num  \\\n",
       "11      30         State-gov  141297    Bachelors             13   \n",
       "968     48           Private  164966    Bachelors             13   \n",
       "1327    52           Private  168381      HS-grad              9   \n",
       "7258    42         State-gov  102343  Prof-school             15   \n",
       "7285    54         State-gov   93449      Masters             14   \n",
       "8124    36           Private  172104  Prof-school             15   \n",
       "9939    43       Federal-gov  325706  Prof-school             15   \n",
       "10590   35           Private   98283  Prof-school             15   \n",
       "10661   59           Private  122283  Prof-school             15   \n",
       "10736   30           Private  243190  Prof-school             15   \n",
       "11260   54           Private  225599      Masters             14   \n",
       "11384   34           Private   98283  Prof-school             15   \n",
       "13422   53           Private  366957    Bachelors             13   \n",
       "13551   40           Private  220977    Doctorate             16   \n",
       "13862   45           Private  209912    Bachelors             13   \n",
       "16017   41           Private  207578   Assoc-acdm             12   \n",
       "16778   43           Private  242968      Masters             14   \n",
       "16923   41           Private  143003    Assoc-voc             11   \n",
       "17259   57      Self-emp-inc  123053  Prof-school             15   \n",
       "17834   29  Self-emp-not-inc  341672      HS-grad              9   \n",
       "20417   42      Self-emp-inc   23510      Masters             14   \n",
       "20465   39           Private  198654  Prof-school             15   \n",
       "21128   30           Private  122889      Masters             14   \n",
       "23474   55         State-gov  120781    Doctorate             16   \n",
       "24154   46           Private  229737    Bachelors             13   \n",
       "25739   35      Self-emp-inc   79586      Masters             14   \n",
       "26305   27           Private  207352    Bachelors             13   \n",
       "26356   34           Private   99872      Masters             14   \n",
       "27670   61           Private   80896      Masters             14   \n",
       "28264   51  Self-emp-not-inc  120781  Prof-school             15   \n",
       "28433   42           Private  198341      Masters             14   \n",
       "28452   53           Private   70387      Masters             14   \n",
       "28557   34           Private  165737      Masters             14   \n",
       "28651   45  Self-emp-not-inc  216402  Prof-school             15   \n",
       "28798   30  Self-emp-not-inc  116666      Masters             14   \n",
       "30111   41       Federal-gov  219155  Prof-school             15   \n",
       "30152   48           Private  119471    Doctorate             16   \n",
       "30833   25           Private  110978   Assoc-acdm             12   \n",
       "31327   38         State-gov  125499    Bachelors             13   \n",
       "31357   23           Private  143003      Masters             14   \n",
       "\n",
       "              marital-status        occupation    relationship  \\\n",
       "11        Married-civ-spouse    Prof-specialty         Husband   \n",
       "968       Married-civ-spouse   Exec-managerial         Husband   \n",
       "1327                 Widowed     Other-service       Unmarried   \n",
       "7258      Married-civ-spouse    Prof-specialty         Husband   \n",
       "7285      Married-civ-spouse    Prof-specialty         Husband   \n",
       "8124           Never-married    Prof-specialty   Not-in-family   \n",
       "9939      Married-civ-spouse    Prof-specialty         Husband   \n",
       "10590          Never-married    Prof-specialty   Not-in-family   \n",
       "10661     Married-civ-spouse    Prof-specialty         Husband   \n",
       "10736     Married-civ-spouse    Prof-specialty         Husband   \n",
       "11260     Married-civ-spouse    Prof-specialty         Husband   \n",
       "11384          Never-married      Tech-support   Not-in-family   \n",
       "13422     Married-civ-spouse   Exec-managerial         Husband   \n",
       "13551     Married-civ-spouse   Exec-managerial         Husband   \n",
       "13862     Married-civ-spouse   Exec-managerial         Husband   \n",
       "16017     Married-civ-spouse   Exec-managerial         Husband   \n",
       "16778     Married-civ-spouse   Exec-managerial         Husband   \n",
       "16923     Married-civ-spouse     Other-service         Husband   \n",
       "17259     Married-civ-spouse    Prof-specialty         Husband   \n",
       "17834  Married-spouse-absent  Transport-moving  Other-relative   \n",
       "20417               Divorced   Exec-managerial       Unmarried   \n",
       "20465     Married-civ-spouse    Prof-specialty         Husband   \n",
       "21128     Married-civ-spouse    Prof-specialty         Husband   \n",
       "23474     Married-civ-spouse    Prof-specialty         Husband   \n",
       "24154     Married-civ-spouse             Sales         Husband   \n",
       "25739     Married-civ-spouse    Prof-specialty         Husband   \n",
       "26305     Married-civ-spouse      Tech-support         Husband   \n",
       "26356     Married-civ-spouse   Exec-managerial         Husband   \n",
       "27670     Married-civ-spouse    Prof-specialty         Husband   \n",
       "28264     Married-civ-spouse    Prof-specialty         Husband   \n",
       "28433     Married-civ-spouse    Prof-specialty         Husband   \n",
       "28452     Married-civ-spouse    Prof-specialty         Husband   \n",
       "28557     Married-civ-spouse    Prof-specialty         Husband   \n",
       "28651     Married-civ-spouse    Prof-specialty         Husband   \n",
       "28798               Divorced    Prof-specialty   Not-in-family   \n",
       "30111     Married-civ-spouse    Prof-specialty         Husband   \n",
       "30152     Married-civ-spouse    Prof-specialty         Husband   \n",
       "30833     Married-civ-spouse      Adm-clerical            Wife   \n",
       "31327     Married-civ-spouse    Prof-specialty         Husband   \n",
       "31357     Married-civ-spouse    Prof-specialty         Husband   \n",
       "\n",
       "                     race     sex  capital-gain  capital-loss  hours-per-week  \\\n",
       "11     Asian-Pac-Islander    Male             0             0              40   \n",
       "968    Asian-Pac-Islander    Male             0             0              40   \n",
       "1327   Asian-Pac-Islander  Female             0             0              40   \n",
       "7258   Asian-Pac-Islander    Male             0             0              72   \n",
       "7285   Asian-Pac-Islander    Male             0             0              40   \n",
       "8124                Other    Male             0             0              40   \n",
       "9939   Asian-Pac-Islander    Male             0             0              50   \n",
       "10590  Asian-Pac-Islander    Male             0             0              40   \n",
       "10661  Asian-Pac-Islander    Male         99999             0              40   \n",
       "10736  Asian-Pac-Islander    Male             0             0              20   \n",
       "11260  Asian-Pac-Islander    Male          7298             0              40   \n",
       "11384  Asian-Pac-Islander    Male             0          1564              40   \n",
       "13422  Asian-Pac-Islander    Male         99999             0              50   \n",
       "13551  Asian-Pac-Islander    Male          3103             0              40   \n",
       "13862  Asian-Pac-Islander    Male             0             0              40   \n",
       "16017               Black    Male             0             0              50   \n",
       "16778  Asian-Pac-Islander    Male             0             0              40   \n",
       "16923  Asian-Pac-Islander    Male          7298             0              60   \n",
       "17259  Asian-Pac-Islander    Male         15024             0              50   \n",
       "17834  Asian-Pac-Islander    Male             0          1564              50   \n",
       "20417  Asian-Pac-Islander    Male             0          2201              60   \n",
       "20465  Asian-Pac-Islander    Male             0          2415              67   \n",
       "21128  Asian-Pac-Islander    Male             0             0              50   \n",
       "23474  Asian-Pac-Islander    Male             0             0              40   \n",
       "24154               White    Male             0             0              50   \n",
       "25739  Asian-Pac-Islander    Male             0             0              40   \n",
       "26305  Asian-Pac-Islander    Male             0             0              40   \n",
       "26356  Asian-Pac-Islander    Male          3103             0              40   \n",
       "27670  Asian-Pac-Islander    Male             0             0              45   \n",
       "28264               Other    Male         99999             0              70   \n",
       "28433  Asian-Pac-Islander    Male             0          1902              55   \n",
       "28452  Asian-Pac-Islander    Male          4386             0              40   \n",
       "28557  Asian-Pac-Islander    Male             0             0              43   \n",
       "28651  Asian-Pac-Islander    Male             0             0              50   \n",
       "28798  Asian-Pac-Islander    Male             0             0              50   \n",
       "30111               White    Male             0             0              50   \n",
       "30152  Asian-Pac-Islander    Male             0             0              40   \n",
       "30833  Asian-Pac-Islander  Female             0             0              37   \n",
       "31327  Asian-Pac-Islander    Male          7688             0              60   \n",
       "31357  Asian-Pac-Islander    Male             0          1887              50   \n",
       "\n",
       "      native-country salary  \n",
       "11             India   >50K  \n",
       "968            India   >50K  \n",
       "1327           India   >50K  \n",
       "7258           India   >50K  \n",
       "7285           India   >50K  \n",
       "8124           India   >50K  \n",
       "9939           India   >50K  \n",
       "10590          India   >50K  \n",
       "10661          India   >50K  \n",
       "10736          India   >50K  \n",
       "11260          India   >50K  \n",
       "11384          India   >50K  \n",
       "13422          India   >50K  \n",
       "13551          India   >50K  \n",
       "13862          India   >50K  \n",
       "16017          India   >50K  \n",
       "16778          India   >50K  \n",
       "16923          India   >50K  \n",
       "17259          India   >50K  \n",
       "17834          India   >50K  \n",
       "20417          India   >50K  \n",
       "20465          India   >50K  \n",
       "21128          India   >50K  \n",
       "23474          India   >50K  \n",
       "24154          India   >50K  \n",
       "25739          India   >50K  \n",
       "26305          India   >50K  \n",
       "26356          India   >50K  \n",
       "27670          India   >50K  \n",
       "28264          India   >50K  \n",
       "28433          India   >50K  \n",
       "28452          India   >50K  \n",
       "28557          India   >50K  \n",
       "28651          India   >50K  \n",
       "28798          India   >50K  \n",
       "30111          India   >50K  \n",
       "30152          India   >50K  \n",
       "30833          India   >50K  \n",
       "31327          India   >50K  \n",
       "31357          India   >50K  "
      ]
     },
     "execution_count": 251,
     "metadata": {},
     "output_type": "execute_result"
    }
   ],
   "source": [
    "occupation_df"
   ]
  },
  {
   "cell_type": "code",
   "execution_count": 270,
   "id": "2bcf158b-374c-4f5f-9379-ceb118862ed3",
   "metadata": {},
   "outputs": [],
   "source": [
    "group_by_occ=occupation_df.groupby(['occupation'])['occupation'].count()"
   ]
  },
  {
   "cell_type": "code",
   "execution_count": 267,
   "id": "8b96896d-e602-4035-85b9-00d661204b6c",
   "metadata": {},
   "outputs": [],
   "source": [
    "top_IN_occupation = group_by_occ.idxmax()"
   ]
  },
  {
   "cell_type": "code",
   "execution_count": 269,
   "id": "de6a99b4-56c5-48d9-8f52-c988b118f2fe",
   "metadata": {},
   "outputs": [
    {
     "data": {
      "text/plain": [
       "'Prof-specialty'"
      ]
     },
     "execution_count": 269,
     "metadata": {},
     "output_type": "execute_result"
    }
   ],
   "source": [
    "top_IN_occupation"
   ]
  },
  {
   "cell_type": "code",
   "execution_count": null,
   "id": "5d8125b5-d448-420c-9fee-2cda8cb7dd3f",
   "metadata": {},
   "outputs": [],
   "source": []
  }
 ],
 "metadata": {
  "kernelspec": {
   "display_name": "venv",
   "language": "python",
   "name": "venv"
  },
  "language_info": {
   "codemirror_mode": {
    "name": "ipython",
    "version": 3
   },
   "file_extension": ".py",
   "mimetype": "text/x-python",
   "name": "python",
   "nbconvert_exporter": "python",
   "pygments_lexer": "ipython3",
   "version": "3.12.1"
  }
 },
 "nbformat": 4,
 "nbformat_minor": 5
}
